{
 "cells": [
  {
   "cell_type": "code",
   "execution_count": 4,
   "metadata": {},
   "outputs": [],
   "source": [
    "import numpy as np\n",
    "import sounddevice as sd\n",
    "import matplotlib.pyplot as plt\n",
    "import scipy as sp\n",
    "import scipy.signal as sg \n",
    "from tkinter import *\n",
    "#import kbhit\n",
    "# gráficos en el notebook\n",
    "%matplotlib inline\n",
    "SRATE = 44100 # Sample rate, para todo el programa\n",
    "CHUNK = 1024"
   ]
  },
  {
   "cell_type": "code",
   "execution_count": 2,
   "metadata": {},
   "outputs": [
    {
     "name": "stdout",
     "output_type": "stream",
     "text": [
      "The autoreload extension is already loaded. To reload it, use:\n",
      "  %reload_ext autoreload\n"
     ]
    }
   ],
   "source": [
    "%load_ext autoreload\n",
    "%autoreload 2\n",
    "\n",
    "from midiSequencerTk import *\n",
    "import os    \n",
    "from instrument import *\n",
    "\n",
    "\n",
    "def test():\n",
    "    def callback(outdata, frames, time, status):    \n",
    "        if status: print(status)    \n",
    "        #print(inputs)\n",
    "        s = np.sum([i.next() for i in inputs],axis=0)\n",
    "        s = np.float32(s)\n",
    "        outdata[:] = s.reshape(-1, 1)\n",
    "\n",
    "    os.system('xset r off')\n",
    "    tk = Tk()\n",
    "    ins = Instrument(tk)\n",
    "\n",
    "    seq = MidiSequencerTk(tk,ins)\n",
    "    #print(seq.seq)\n",
    "    inputs = [ins]\n",
    "\n",
    "    stream = sd.OutputStream(samplerate=SRATE, channels=1, blocksize=CHUNK, callback=callback)\n",
    "    stream.start()\n",
    "\n",
    "    tk.mainloop()\n",
    "\n",
    "    stream.close()\n",
    "    os.system('xset r on')\n",
    "\n",
    "test()"
   ]
  }
 ],
 "metadata": {
  "kernelspec": {
   "display_name": "Python 3",
   "language": "python",
   "name": "python3"
  },
  "language_info": {
   "codemirror_mode": {
    "name": "ipython",
    "version": 3
   },
   "file_extension": ".py",
   "mimetype": "text/x-python",
   "name": "python",
   "nbconvert_exporter": "python",
   "pygments_lexer": "ipython3",
   "version": "3.12.8"
  }
 },
 "nbformat": 4,
 "nbformat_minor": 2
}
