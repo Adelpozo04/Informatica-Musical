{
 "cells": [
  {
   "cell_type": "code",
   "execution_count": null,
   "metadata": {},
   "outputs": [],
   "source": [
    "#Adrian del Pozo Hernandez\n",
    "#Ines Primo Lopez\n",
    "\n",
    "import numpy as np\n",
    "import sounddevice as sd\n",
    "import matplotlib.pyplot as plt\n",
    "import scipy as sp\n",
    "import scipy.signal as sg \n",
    "from tkinter import *\n",
    "#import kbhit\n",
    "# gráficos en el notebook\n",
    "%matplotlib inline\n",
    "SRATE = 44100 # Sample rate, para todo el programa\n",
    "CHUNK = 1024"
   ]
  },
  {
   "cell_type": "code",
   "execution_count": 1,
   "metadata": {},
   "outputs": [],
   "source": [
    "from tkinter import *\n",
    "import os\n",
    "from instrument import *\n",
    "from constante import *\n",
    "import sounddevice as sd\n",
    "\n",
    "def test():\n",
    "    def callback(outdata, frames, time, status):    \n",
    "        if status: print(status)    \n",
    "        s = np.sum([i.next() for i in inputs],axis=0)\n",
    "        s = np.float32(s)\n",
    "        outdata[:] = s.reshape(-1, 1)\n",
    "\n",
    "    tk = Tk()\n",
    "    ins = Instrument(tk)\n",
    "    inputs = [ins]\n",
    "\n",
    "    # desactivar repeticion de teclas\n",
    "    os.system('xset r off')\n",
    "\n",
    "    stream = sd.OutputStream(samplerate=SRATE, channels=1, blocksize=CHUNK, callback=callback)    \n",
    "    stream.start()\n",
    "    tk.mainloop()\n",
    "\n",
    "    # reactivar repeticion de teclas   \n",
    "    os.system('xset r on')\n",
    "    stream.close()\n",
    "\n",
    "test()    "
   ]
  },
  {
   "cell_type": "code",
   "execution_count": 3,
   "metadata": {},
   "outputs": [
    {
     "name": "stdout",
     "output_type": "stream",
     "text": [
      "<constante.Constante object at 0x000002A0B8ABF590>\n"
     ]
    }
   ],
   "source": [
    "algo = Constante(45)\n",
    "\n",
    "print(algo)"
   ]
  }
 ],
 "metadata": {
  "kernelspec": {
   "display_name": "Python 3",
   "language": "python",
   "name": "python3"
  },
  "language_info": {
   "codemirror_mode": {
    "name": "ipython",
    "version": 3
   },
   "file_extension": ".py",
   "mimetype": "text/x-python",
   "name": "python",
   "nbconvert_exporter": "python",
   "pygments_lexer": "ipython3",
   "version": "3.12.8"
  }
 },
 "nbformat": 4,
 "nbformat_minor": 2
}
