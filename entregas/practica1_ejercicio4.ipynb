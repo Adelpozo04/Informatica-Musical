{
 "cells": [
  {
   "cell_type": "code",
   "execution_count": 1,
   "metadata": {},
   "outputs": [],
   "source": [
    "#Adrian del Pozo Hernandez\n",
    "#Ines Primo Lopez\n",
    "\n",
    "import numpy as np\n",
    "import sounddevice as sd\n",
    "import matplotlib.pyplot as plt\n",
    "\n",
    "# gráficos en el notebook\n",
    "%matplotlib inline\n",
    "SRATE = 44100 # Sample rate, para todo el programa"
   ]
  },
  {
   "cell_type": "code",
   "execution_count": 2,
   "metadata": {},
   "outputs": [],
   "source": [
    "def osc(freq, dur=1, amp=1, phase=0):\n",
    "    \n",
    "    ns = np.arange(SRATE * dur)\n",
    "    a = np.sin(((ns * np.pi * 2 * freq) /SRATE) + phase)\n",
    "\n",
    "    return a * amp"
   ]
  },
  {
   "cell_type": "code",
   "execution_count": 5,
   "metadata": {},
   "outputs": [
    {
     "data": {
      "image/png": "[encoded data removed]",
      "text/plain": [
       "<Figure size 640x480 with 1 Axes>"
      ]
     },
     "metadata": {},
     "output_type": "display_data"
    }
   ],
   "source": [
    "#teclas de piano ampliado\n",
    "teclas = \"CDEFGABHIJKLcdefgabhijkl\"\n",
    "\n",
    "#frecuencias ampliadas\n",
    "frecs = [523.251, 587.33, 659.255, 698.456, 783.991, 880, 987.767, 554.365, 622.254, 739.989, 830.609, 932.328]\n",
    "\n",
    "#Se añaden los agudos en la tabla de frecuencias\n",
    "ext = [f * 2 for f in frecs]\n",
    "tablafrecs = frecs + ext\n",
    "\n",
    "#Partitura del cumpleaños feliz\n",
    "partitura = np.array([['G', 0.5], ['G', 0.5], ['A', 1], ['G', 1], ['c', 1], ['B', 2],\n",
    "                      ['G', 0.5], ['G', 0.5], ['A', 1], ['G', 1], ['d', 1], ['c', 2],\n",
    "                      ['G', 0.5], ['G', 0.5], ['g', 1], ['e', 1], ['c', 1], ['B', 1], ['A', 1],\n",
    "                      ['f', 0.5], ['f', 0.5], ['e', 1], ['c', 1], ['d', 1], ['c', 1]])\n",
    "\n",
    "#Se traduce una nota a una frecuencia\n",
    "def NotaFrecuencia(nombre, dur=1, amp=1, phase = 0):\n",
    "    indx = teclas.index(nombre)\n",
    "    return tablafrecs[indx]\n",
    "\n",
    "#se añade una nota a una partitura\n",
    "def AddNota (partitura, nota, duracion):\n",
    "    aux = osc(NotaFrecuencia(nota), duracion)\n",
    "    sil = osc(0, 0.05)\n",
    "    return np.concatenate((partitura, aux, sil), axis=None)\n",
    "\n",
    "#te crea una partitura dada una tabla de notas y duraciones\n",
    "def CrearPartitura(tabla):\n",
    "    sol = np.array([])\n",
    "\n",
    "    for i in tabla:\n",
    "\n",
    "       sol = AddNota(sol, i[0], i[1].astype(float))\n",
    "\n",
    "    return sol\n",
    "\n",
    "sol = CrearPartitura(partitura)\n",
    "\n",
    "plt.plot(sol)\n",
    "\n",
    "sd.play(sol)\n",
    "\n",
    "sd.wait()"
   ]
  }
 ],
 "metadata": {
  "kernelspec": {
   "display_name": "Python 3",
   "language": "python",
   "name": "python3"
  },
  "language_info": {
   "codemirror_mode": {
    "name": "ipython",
    "version": 3
   },
   "file_extension": ".py",
   "mimetype": "text/x-python",
   "name": "python",
   "nbconvert_exporter": "python",
   "pygments_lexer": "ipython3",
   "version": "3.13.1"
  }
 },
 "nbformat": 4,
 "nbformat_minor": 2
}
