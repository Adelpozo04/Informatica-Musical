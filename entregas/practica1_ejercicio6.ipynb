{
 "cells": [
  {
   "cell_type": "code",
   "execution_count": 8,
   "metadata": {},
   "outputs": [],
   "source": [
    "# Adrian del Pozo Hernandez\n",
    "# Ines Primo Lopez\n",
    "\n",
    "import numpy as np\n",
    "import sounddevice as sd\n",
    "import matplotlib.pyplot as plt\n",
    "import kbhit \n",
    "import time # para medir tiempos de ejecución\n",
    "\n",
    "SRATE = 44100 # Sample rate, para todo el programa\n",
    "\n",
    "# devuelve una oscilacion de duracion dur, frecuencia freq, amplicacion amp y fase phase\n",
    "def osc(dur, freq=1, amp=1, phase = 0):\n",
    "    \n",
    "    soporte = np.arange(dur*SRATE)\n",
    "    noise = np.sin(((2*np.pi*soporte*freq)/SRATE) + phase)\n",
    "\n",
    "    return noise * amp\n",
    "\n",
    "# genera una nota de frecuancia f con sus armonicos en el array amps\n",
    "def harm0sc(f, amps, dur, amp):\n",
    "    nota = osc(dur, f, amp, 0)\n",
    "\n",
    "    i = 0\n",
    "    while i<len(amps):\n",
    "        armonico = osc(dur, f*i, amps[i], 0)\n",
    "        nota += armonico\n",
    "        i+=1\n",
    "    \n",
    "    return nota\n",
    "\n",
    "# configuracion 1, suena muy ligeramente a oboe\n",
    "#dur = 2\n",
    "#f = 440\n",
    "#amps = [1, 2, 1]\n",
    "#amp = 1\n",
    "\n",
    "# configuracion 2\n",
    "#dur = 2\n",
    "#f = 440\n",
    "#amps = [4, 2, 4, 2, 4, 2, 4, 2, 4, 2, 4, 2, 4]\n",
    "#amp = 1\n",
    "\n",
    "# configuracion 3\n",
    "dur = 2\n",
    "f = 261\n",
    "amps = np.arange(3000, 4000)\n",
    "amp = 1\n",
    "\n",
    "nota = harm0sc(f, amps, dur, amp)\n",
    "\n",
    "nota * 0.5\n",
    "sd.play(nota, SRATE)\n",
    "sd.wait()"
   ]
  }
 ],
 "metadata": {
  "kernelspec": {
   "display_name": "Python 3",
   "language": "python",
   "name": "python3"
  },
  "language_info": {
   "codemirror_mode": {
    "name": "ipython",
    "version": 3
   },
   "file_extension": ".py",
   "mimetype": "text/x-python",
   "name": "python",
   "nbconvert_exporter": "python",
   "pygments_lexer": "ipython3",
   "version": "3.12.8"
  }
 },
 "nbformat": 4,
 "nbformat_minor": 2
}
