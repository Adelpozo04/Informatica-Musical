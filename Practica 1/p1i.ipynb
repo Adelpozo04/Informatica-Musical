{
 "cells": [
  {
   "cell_type": "code",
   "execution_count": 7,
   "metadata": {},
   "outputs": [
    {
     "name": "stdout",
     "output_type": "stream",
     "text": [
      "Requirement already satisfied: sounddevice in c:\\users\\ineso\\appdata\\local\\packages\\pythonsoftwarefoundation.python.3.11_qbz5n2kfra8p0\\localcache\\local-packages\\python311\\site-packages (0.5.1)"
     ]
    },
    {
     "name": "stderr",
     "output_type": "stream",
     "text": [
      "\n",
      "[notice] A new release of pip is available: 24.0 -> 25.0\n",
      "[notice] To update, run: C:\\Users\\ineso\\AppData\\Local\\Microsoft\\WindowsApps\\PythonSoftwareFoundation.Python.3.11_qbz5n2kfra8p0\\python.exe -m pip install --upgrade pip\n"
     ]
    },
    {
     "name": "stdout",
     "output_type": "stream",
     "text": [
      "\n",
      "Requirement already satisfied: CFFI>=1.0 in c:\\users\\ineso\\appdata\\local\\packages\\pythonsoftwarefoundation.python.3.11_qbz5n2kfra8p0\\localcache\\local-packages\\python311\\site-packages (from sounddevice) (1.17.1)\n",
      "Requirement already satisfied: pycparser in c:\\users\\ineso\\appdata\\local\\packages\\pythonsoftwarefoundation.python.3.11_qbz5n2kfra8p0\\localcache\\local-packages\\python311\\site-packages (from CFFI>=1.0->sounddevice) (2.22)\n",
      "Requirement already satisfied: matplotlib in c:\\users\\ineso\\appdata\\local\\packages\\pythonsoftwarefoundation.python.3.11_qbz5n2kfra8p0\\localcache\\local-packages\\python311\\site-packages (3.10.0)\n",
      "Requirement already satisfied: contourpy>=1.0.1 in c:\\users\\ineso\\appdata\\local\\packages\\pythonsoftwarefoundation.python.3.11_qbz5n2kfra8p0\\localcache\\local-packages\\python311\\site-packages (from matplotlib) (1.3.1)\n",
      "Requirement already satisfied: cycler>=0.10 in c:\\users\\ineso\\appdata\\local\\packages\\pythonsoftwarefoundation.python.3.11_qbz5n2kfra8p0\\localcache\\local-packages\\python311\\site-packages (from matplotlib) (0.12.1)\n",
      "Requirement already satisfied: fonttools>=4.22.0 in c:\\users\\ineso\\appdata\\local\\packages\\pythonsoftwarefoundation.python.3.11_qbz5n2kfra8p0\\localcache\\local-packages\\python311\\site-packages (from matplotlib) (4.55.7)\n",
      "Requirement already satisfied: kiwisolver>=1.3.1 in c:\\users\\ineso\\appdata\\local\\packages\\pythonsoftwarefoundation.python.3.11_qbz5n2kfra8p0\\localcache\\local-packages\\python311\\site-packages (from matplotlib) (1.4.8)\n",
      "Requirement already satisfied: numpy>=1.23 in c:\\users\\ineso\\appdata\\local\\packages\\pythonsoftwarefoundation.python.3.11_qbz5n2kfra8p0\\localcache\\local-packages\\python311\\site-packages (from matplotlib) (2.2.2)\n",
      "Requirement already satisfied: packaging>=20.0 in c:\\users\\ineso\\appdata\\local\\packages\\pythonsoftwarefoundation.python.3.11_qbz5n2kfra8p0\\localcache\\local-packages\\python311\\site-packages (from matplotlib) (24.2)\n",
      "Requirement already satisfied: pillow>=8 in c:\\users\\ineso\\appdata\\local\\packages\\pythonsoftwarefoundation.python.3.11_qbz5n2kfra8p0\\localcache\\local-packages\\python311\\site-packages (from matplotlib) (11.1.0)\n",
      "Requirement already satisfied: pyparsing>=2.3.1 in c:\\users\\ineso\\appdata\\local\\packages\\pythonsoftwarefoundation.python.3.11_qbz5n2kfra8p0\\localcache\\local-packages\\python311\\site-packages (from matplotlib) (3.2.1)\n",
      "Requirement already satisfied: python-dateutil>=2.7 in c:\\users\\ineso\\appdata\\local\\packages\\pythonsoftwarefoundation.python.3.11_qbz5n2kfra8p0\\localcache\\local-packages\\python311\\site-packages (from matplotlib) (2.9.0.post0)\n",
      "Requirement already satisfied: six>=1.5 in c:\\users\\ineso\\appdata\\local\\packages\\pythonsoftwarefoundation.python.3.11_qbz5n2kfra8p0\\localcache\\local-packages\\python311\\site-packages (from python-dateutil>=2.7->matplotlib) (1.17.0)\n"
     ]
    },
    {
     "name": "stderr",
     "output_type": "stream",
     "text": [
      "\n",
      "[notice] A new release of pip is available: 24.0 -> 25.0\n",
      "[notice] To update, run: C:\\Users\\ineso\\AppData\\Local\\Microsoft\\WindowsApps\\PythonSoftwareFoundation.Python.3.11_qbz5n2kfra8p0\\python.exe -m pip install --upgrade pip\n"
     ]
    },
    {
     "name": "stdout",
     "output_type": "stream",
     "text": [
      "Requirement already satisfied: numpy in c:\\users\\ineso\\appdata\\local\\packages\\pythonsoftwarefoundation.python.3.11_qbz5n2kfra8p0\\localcache\\local-packages\\python311\\site-packages (2.2.2)\n"
     ]
    },
    {
     "name": "stderr",
     "output_type": "stream",
     "text": [
      "\n",
      "[notice] A new release of pip is available: 24.0 -> 25.0\n",
      "[notice] To update, run: C:\\Users\\ineso\\AppData\\Local\\Microsoft\\WindowsApps\\PythonSoftwareFoundation.Python.3.11_qbz5n2kfra8p0\\python.exe -m pip install --upgrade pip\n"
     ]
    }
   ],
   "source": [
    "import sys\n",
    "!{sys.executable} -m pip install sounddevice   \n",
    "!{sys.executable} -m pip install matplotlib\n",
    "!{sys.executable} -m pip install numpy      "
   ]
  },
  {
   "cell_type": "code",
   "execution_count": 8,
   "metadata": {},
   "outputs": [],
   "source": [
    "import numpy as np\n",
    "import sounddevice as sd\n",
    "import matplotlib.pyplot as plt\n",
    "import kbhit \n",
    "import time # para medir tiempos de ejecución\n",
    "\n",
    "# gráficos en el notebook\n",
    "#%matplotlib inline\n",
    "SRATE = 44100 # Sample rate, para todo el programa"
   ]
  },
  {
   "cell_type": "code",
   "execution_count": 9,
   "metadata": {},
   "outputs": [],
   "source": [
    "# ejercicio 1\n",
    "# en el primero pone que hay que usar el random basico pero paso \n",
    "# porque es una fumada y quiero hacer el 2\n",
    "\n",
    "def noise1(dur):\n",
    "    i = 0\n",
    "    noise = np.empty([dur*SRATE])\n",
    "    while i < dur*SRATE:\n",
    "        # random.choice([-1,1]) para sacar o -1 o 1\n",
    "        noise[i] = np.random.uniform(-1, 1)\n",
    "        i += 1\n",
    "\n",
    "    #plt.plot(noise[:100])   #100 primeras muestras\n",
    "    \n",
    "    return noise\n",
    "\n",
    "def noise2(dur):\n",
    "    #noise = np.empty[dur*SRATE]    #crea un array vacio de size dur*SRATE\n",
    "\n",
    "    # rellena el array con valores aleatorios entre [-1, 1]\n",
    "    noise = np.random.uniform(-1, 1, dur*SRATE)\n",
    "\n",
    "    #plt.plot(noise[:100])   #100 primeras muestras\n",
    "\n",
    "    return noise\n"
   ]
  },
  {
   "cell_type": "code",
   "execution_count": 10,
   "metadata": {},
   "outputs": [
    {
     "name": "stdout",
     "output_type": "stream",
     "text": [
      "time. 7.225595712661743\n"
     ]
    }
   ],
   "source": [
    "start = time.time()\n",
    "\n",
    "data = noise1(3)\n",
    "\n",
    "data * 0.5\n",
    "sd.play(data, SRATE)\n",
    "sd.wait()\n",
    "\n",
    "print(f'time. {time.time() - start}')"
   ]
  },
  {
   "cell_type": "code",
   "execution_count": 11,
   "metadata": {},
   "outputs": [],
   "source": [
    "#ejercicio 2\n",
    "\n",
    "def sinusoidal(dur, frec, amp, fase):\n",
    "    # array vacio\n",
    "    #noise = np.empty(dur*SRATE)\n",
    "    soporte = np.arange(dur*SRATE)\n",
    "    noise = np.sin(((2*np.pi*soporte*frec)/SRATE) + fase)\n",
    "\n",
    "    #plt.plot(soporte, noise)   #100 primeras muestras\n",
    "\n",
    "    return noise * amp\n",
    "\n",
    "# sen((2*pi*xi/SRATE) + fase)\n",
    "# para aumentar la fase sumar en el argumento del seno"
   ]
  },
  {
   "cell_type": "code",
   "execution_count": 12,
   "metadata": {},
   "outputs": [],
   "source": [
    "\n",
    "dur = 3\n",
    "freq = 220\n",
    "fase = 2*np.pi\n",
    "amp = 1  # volumen\n",
    "\n",
    "data = sinusoidal(dur,freq, amp,fase)\n",
    "\n",
    "\n",
    "sd.play(data, SRATE)\n",
    "sd.wait()"
   ]
  },
  {
   "cell_type": "code",
   "execution_count": 13,
   "metadata": {},
   "outputs": [],
   "source": [
    "#ejercicio 3\n",
    "def osc(dur, freq=1, amp=1, phase = 0):\n",
    "    \n",
    "    datos = sinusoidal(dur, freq, amp, phase)\n",
    "\n",
    "    return datos\n"
   ]
  },
  {
   "cell_type": "markdown",
   "metadata": {},
   "source": []
  },
  {
   "cell_type": "code",
   "execution_count": 14,
   "metadata": {},
   "outputs": [],
   "source": [
    "\n",
    "freq = 2\n",
    "dur = 1\n",
    "amp = 1\n",
    "fase = np.pi/2\n",
    "\n",
    "data = osc(dur,freq,amp,fase)\n",
    "\n",
    "soporte = np.arange(dur*SRATE)\n",
    "\n",
    "#plt.plot(soporte, data)   #100 primeras muestras"
   ]
  },
  {
   "cell_type": "code",
   "execution_count": 15,
   "metadata": {},
   "outputs": [],
   "source": [
    "#SOUND DEVICE sd suele funcionar con float32 no float 64\n",
    "# s = np.floar32(s)\n",
    "\n",
    "# teclado\n",
    "teclas2 = \"CDEFGABHIJKLcdefgabhijkl\"\n",
    "teclas = \"CDEFGABcdefgab\"\n",
    "# H-> C# ;; I -> D# ;; J -> F# ;; K -> G# ;; L -> A#\n",
    "\n",
    "frecs = [523.251, 587.33, 659.255, 698.456, 783.991, 880, 987.767]\n",
    "frecs2 = [523.251, 587.33, 659.255, 698.456, 783.991, 880, 987.767, 554.365, 622.254, 739.989, 830.609, 932.328]\n",
    "ext = [f*2 for f in frecs]\n",
    "ext2 = [f*2 for f in frecs2]\n",
    "\n",
    "tablafrecs = frecs + ext\n",
    "tablafrecs2 = frecs2 + ext2\n",
    "\n",
    "\n",
    "partitura = [(\"G\", 0.5), (\"G\",0.5), (\"A\",1), (\"G\",1), (\"c\", 1), (\"B\", 2)]\n",
    "partitura2 = [(\"A\", 1), (\"L\",1), (\"c\",2), (\"L\",1), (\"A\", 1), (\"G\", 1),(\"A\", 1),(\"L\", 2), (\"J\", 2), (\"A\", 2) ]\n",
    "tiempo = 10\n",
    "\n",
    "def nota(nombre, dur=1, amp=1, phase = 0):\n",
    "    indx = teclas2.index(nombre)\n",
    "    return osc(dur, tablafrecs2[indx], amp, phase)\n",
    "\n",
    "def partituraLen(parti):\n",
    "    i = 0\n",
    "    cont = 0\n",
    "    while i<len(parti):\n",
    "        cont += parti[i][1]\n",
    "        i += 1\n",
    "    return cont\n",
    "\n",
    "def happybirthday(parti):\n",
    "    \n",
    "    #saca un int y eso no le mola por eso se queja lmfao\n",
    "    song = np.empty(0)\n",
    "    i = 0\n",
    "    # va rellenando segun los datos\n",
    "    while i<len(parti):\n",
    "\n",
    "        note = nota(parti[i][0], parti[i][1])\n",
    "        song = np.append(song, note)\n",
    "\n",
    "        # ligero silencio\n",
    "        note = osc(0.01, 0, amp)\n",
    "        song = np.append(song, note)\n",
    "\n",
    "        i += 1\n",
    "    return song\n",
    "\n"
   ]
  },
  {
   "cell_type": "code",
   "execution_count": 16,
   "metadata": {},
   "outputs": [],
   "source": [
    "data = happybirthday(partitura2)\n",
    "\n",
    "data * 0.5\n",
    "sd.play(data, SRATE)\n",
    "sd.wait()"
   ]
  },
  {
   "cell_type": "code",
   "execution_count": 17,
   "metadata": {},
   "outputs": [],
   "source": [
    "# ejercicio 5\n",
    "\n",
    "def modulator(signal, freq):\n",
    "    dur = len(signal)/SRATE\n",
    "    #mod = np.empty([len(signal)])\n",
    "\n",
    "    #mod = np.random.uniform(low=0, high=1, size=(len(signal)))\n",
    "    #mod = np.random.uniform(0, 1, dur*SRATE)\n",
    "    mod = sinusoidal(dur, freq, 1, 0)\n",
    "\n",
    "    #plt.plot(mod)   \n",
    "\n",
    "    return signal * mod"
   ]
  },
  {
   "cell_type": "code",
   "execution_count": 21,
   "metadata": {},
   "outputs": [
    {
     "ename": "TypeError",
     "evalue": "'numpy.ndarray' object is not callable",
     "output_type": "error",
     "traceback": [
      "\u001b[1;31m---------------------------------------------------------------------------\u001b[0m",
      "\u001b[1;31mTypeError\u001b[0m                                 Traceback (most recent call last)",
      "Cell \u001b[1;32mIn[21], line 1\u001b[0m\n\u001b[1;32m----> 1\u001b[0m data \u001b[38;5;241m=\u001b[39m \u001b[43mhappybirthday\u001b[49m\u001b[43m(\u001b[49m\u001b[43mpartitura2\u001b[49m\u001b[43m)\u001b[49m\n\u001b[0;32m      3\u001b[0m modulated \u001b[38;5;241m=\u001b[39m modulator(data, \u001b[38;5;241m1\u001b[39m)\n\u001b[0;32m      5\u001b[0m plt\u001b[38;5;241m.\u001b[39mplot(modulated) \n",
      "Cell \u001b[1;32mIn[15], line 42\u001b[0m, in \u001b[0;36mhappybirthday\u001b[1;34m(parti)\u001b[0m\n\u001b[0;32m     39\u001b[0m \u001b[38;5;66;03m# va rellenando segun los datos\u001b[39;00m\n\u001b[0;32m     40\u001b[0m \u001b[38;5;28;01mwhile\u001b[39;00m i\u001b[38;5;241m<\u001b[39m\u001b[38;5;28mlen\u001b[39m(parti):\n\u001b[1;32m---> 42\u001b[0m     note \u001b[38;5;241m=\u001b[39m \u001b[43mnota\u001b[49m\u001b[43m(\u001b[49m\u001b[43mparti\u001b[49m\u001b[43m[\u001b[49m\u001b[43mi\u001b[49m\u001b[43m]\u001b[49m\u001b[43m[\u001b[49m\u001b[38;5;241;43m0\u001b[39;49m\u001b[43m]\u001b[49m\u001b[43m,\u001b[49m\u001b[43m \u001b[49m\u001b[43mparti\u001b[49m\u001b[43m[\u001b[49m\u001b[43mi\u001b[49m\u001b[43m]\u001b[49m\u001b[43m[\u001b[49m\u001b[38;5;241;43m1\u001b[39;49m\u001b[43m]\u001b[49m\u001b[43m)\u001b[49m\n\u001b[0;32m     43\u001b[0m     song \u001b[38;5;241m=\u001b[39m np\u001b[38;5;241m.\u001b[39mappend(song, note)\n\u001b[0;32m     45\u001b[0m     \u001b[38;5;66;03m# ligero silencio\u001b[39;00m\n",
      "\u001b[1;31mTypeError\u001b[0m: 'numpy.ndarray' object is not callable"
     ]
    }
   ],
   "source": [
    "data = happybirthday(partitura2)\n",
    "\n",
    "modulated = modulator(data, 1)\n",
    "\n",
    "plt.plot(modulated) \n",
    "\n",
    "modulated * 0.5\n",
    "sd.play(modulated, SRATE)\n",
    "sd.wait()"
   ]
  },
  {
   "cell_type": "code",
   "execution_count": 19,
   "metadata": {},
   "outputs": [],
   "source": [
    "# ejercicio 6\n",
    "\n",
    "def harm0sc(f, amps, dur, amp):\n",
    "    nota = osc(dur, f, amp, 0)\n",
    "\n",
    "    i = 0\n",
    "    while i<len(amps):\n",
    "        armonico = osc(dur, f*i, amps[i], 0)\n",
    "        nota += armonico\n",
    "        i+=1\n",
    "    \n",
    "    return nota"
   ]
  },
  {
   "cell_type": "code",
   "execution_count": 23,
   "metadata": {},
   "outputs": [],
   "source": [
    "#dur = 2\n",
    "#f = 440\n",
    "#amps = [1, 2, 1]\n",
    "#amp = 1\n",
    "\n",
    "# todo suena maaaaal queria sacar un oboe y no he sacado nada pero este te rompe un poco los timpanos lmao\n",
    "\n",
    "dur = 2\n",
    "f = 440\n",
    "amps = [4, 2, 4, 2, 4, 2, 4, 2, 4, 2, 4, 2, 4]\n",
    "amp = 1\n",
    "\n",
    "#dur = 2\n",
    "#f = 261\n",
    "#amps = np.arange(3000, 4000)\n",
    "#amp = 1\n",
    "\n",
    "nota = harm0sc(f, amps, dur, amp)\n",
    "\n",
    "nota * 0.5\n",
    "sd.play(nota, SRATE)\n",
    "sd.wait()"
   ]
  }
 ],
 "metadata": {
  "kernelspec": {
   "display_name": "Python 3",
   "language": "python",
   "name": "python3"
  },
  "language_info": {
   "codemirror_mode": {
    "name": "ipython",
    "version": 3
   },
   "file_extension": ".py",
   "mimetype": "text/x-python",
   "name": "python",
   "nbconvert_exporter": "python",
   "pygments_lexer": "ipython3",
   "version": "3.11.9"
  }
 },
 "nbformat": 4,
 "nbformat_minor": 2
}
