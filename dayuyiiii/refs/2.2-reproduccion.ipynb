{
 "cells": [
  {
   "cell_type": "markdown",
   "metadata": {},
   "source": [
    "# SoundDevice: modelos de salida de audio\n",
    "\n",
    "SoundDevice posibilita varias formas de reproducir audio\n",
    "\n",
    "- *play*: es el modelo más básico, útil para reproducir muestras enteras (como un *wav*) **sin interacción** con el usuario\n",
    "\n",
    "- Reproducción por CHUNKs o (pequeños) bloques de señal de tamaño fijo: permite la interacción con el usuario entre bloques. Se hace mediante *streams*. A su vez, puede hacerse de dos modos:\n",
    "\n",
    "    - En la hebra de ejecución principal, con un bucle que vaya escribiendo los chunks en el stream de salida\n",
    "\n",
    "    - En una hebra secundaria, mediante un método **callback**\n",
    "\n",
    "#### El último modelo es el más útil para trabajar con señales en tiempo real, secuenciadores, etc\n",
    "\n",
    "A continuación presentamos las 3 versiones de manera simplificada, para reproducir la señal de un oscilador"
   ]
  },
  {
   "cell_type": "code",
   "execution_count": 4,
   "metadata": {},
   "outputs": [
    {
     "name": "stdout",
     "output_type": "stream",
     "text": [
      "Overwriting consts.py\n"
     ]
    }
   ],
   "source": [
    "%%writefile consts.py\n",
    "# común para todos los scripts\n",
    "\n",
    "import numpy as np\n",
    "import sounddevice as sd\n",
    "\n",
    "SRATE = 48000  # frecuencia de muestreo, para todo el proyecto\n",
    "CHUNK = 1024   # tamaño de los CHUNKs o bloque"
   ]
  },
  {
   "cell_type": "markdown",
   "metadata": {},
   "source": [
    "# Versión 1: reproductor básico\n",
    "\n",
    "SoundDevice proporciona un *play* para reproducción básica: recibe un array con todo el audio"
   ]
  },
  {
   "cell_type": "code",
   "execution_count": 5,
   "metadata": {},
   "outputs": [],
   "source": [
    "# Para mostrarlo, generamos una pequeña muestra de audio\n",
    "from consts import *\n",
    "# array con 2 segundos de audio de un oscilador a 110 Hz\n",
    "data = np.sin(2*np.pi*np.arange(2*SRATE)*110/SRATE)"
   ]
  },
  {
   "cell_type": "code",
   "execution_count": 6,
   "metadata": {},
   "outputs": [],
   "source": [
    "# REPRODUCTOR BÁSICO\n",
    "# lanzamos todo el audio y esperamos a que termine\n",
    "\n",
    "sd.play(data, SRATE)\n",
    "sd.wait()"
   ]
  },
  {
   "cell_type": "markdown",
   "metadata": {},
   "source": [
    "# Versión 2: reproductor por CHUNKs en hebra principal \n",
    "\n",
    "Se utiliza un *stream* para ir enviando la señal por CHUNKs (bloques), pero aún se ejecuta en hebra principal"
   ]
  },
  {
   "cell_type": "code",
   "execution_count": 7,
   "metadata": {},
   "outputs": [
    {
     "name": "stdout",
     "output_type": "stream",
     "text": [
      "Procesando bloque: 0\n",
      "Procesando bloque: 1\n",
      "Procesando bloque: 2\n",
      "Procesando bloque: 3\n",
      "Procesando bloque: 4\n",
      "Procesando bloque: 5\n",
      "Procesando bloque: 6\n",
      "Procesando bloque: 7\n",
      "Procesando bloque: 8\n",
      "Procesando bloque: 9\n",
      "Procesando bloque: 10\n",
      "Procesando bloque: 11\n",
      "Procesando bloque: 12\n",
      "Procesando bloque: 13\n",
      "Procesando bloque: 14\n",
      "Procesando bloque: 15\n",
      "Procesando bloque: 16\n",
      "Procesando bloque: 17\n",
      "Procesando bloque: 18\n",
      "Procesando bloque: 19\n",
      "Procesando bloque: 20\n",
      "Procesando bloque: 21\n",
      "Procesando bloque: 22\n",
      "Procesando bloque: 23\n",
      "Procesando bloque: 24\n",
      "Procesando bloque: 25\n",
      "Procesando bloque: 26\n",
      "Procesando bloque: 27\n",
      "Procesando bloque: 28\n",
      "Procesando bloque: 29\n",
      "Procesando bloque: 30\n",
      "Procesando bloque: 31\n",
      "Procesando bloque: 32\n",
      "Procesando bloque: 33\n",
      "Procesando bloque: 34\n",
      "Procesando bloque: 35\n",
      "Procesando bloque: 36\n",
      "Procesando bloque: 37\n",
      "Procesando bloque: 38\n",
      "Procesando bloque: 39\n",
      "Procesando bloque: 40\n",
      "Procesando bloque: 41\n",
      "Procesando bloque: 42\n",
      "Procesando bloque: 43\n",
      "Procesando bloque: 44\n",
      "Procesando bloque: 45\n",
      "Procesando bloque: 46\n",
      "Procesando bloque: 47\n",
      "Procesando bloque: 48\n",
      "Procesando bloque: 49\n",
      "Procesando bloque: 50\n",
      "Procesando bloque: 51\n",
      "Procesando bloque: 52\n",
      "Procesando bloque: 53\n",
      "Procesando bloque: 54\n",
      "Procesando bloque: 55\n",
      "Procesando bloque: 56\n",
      "Procesando bloque: 57\n",
      "Procesando bloque: 58\n",
      "Procesando bloque: 59\n",
      "Procesando bloque: 60\n",
      "Procesando bloque: 61\n",
      "Procesando bloque: 62\n",
      "Procesando bloque: 63\n",
      "Procesando bloque: 64\n",
      "Procesando bloque: 65\n",
      "Procesando bloque: 66\n",
      "Procesando bloque: 67\n",
      "Procesando bloque: 68\n",
      "Procesando bloque: 69\n",
      "Procesando bloque: 70\n",
      "Procesando bloque: 71\n",
      "Procesando bloque: 72\n",
      "Procesando bloque: 73\n",
      "Procesando bloque: 74\n",
      "Procesando bloque: 75\n",
      "Procesando bloque: 76\n",
      "Procesando bloque: 77\n",
      "Procesando bloque: 78\n",
      "Procesando bloque: 79\n",
      "Procesando bloque: 80\n",
      "Procesando bloque: 81\n",
      "Procesando bloque: 82\n",
      "Procesando bloque: 83\n",
      "Procesando bloque: 84\n",
      "Procesando bloque: 85\n",
      "Procesando bloque: 86\n",
      "Procesando bloque: 87\n",
      "Procesando bloque: 88\n",
      "Procesando bloque: 89\n",
      "Procesando bloque: 90\n",
      "Procesando bloque: 91\n",
      "Procesando bloque: 92\n",
      "Procesando bloque: 93\n",
      "Procesando bloque: 94\n"
     ]
    }
   ],
   "source": [
    "# REPRODUCTOR POR CHUNKS \"semi bloqueante\"\n",
    "# lanzamos el audio por bloques de tamaño CHUNK en la hebra principal de ejecucion\n",
    "# -> la ejecución se bloquea hasta que se termina de reproducir el bloque\n",
    "\n",
    "from consts import *\n",
    "\n",
    "# stream de salida\n",
    "stream = sd.OutputStream( # creamos stream \n",
    "    samplerate = SRATE,            # frec de muestreo \n",
    "    blocksize  = CHUNK,            # tamaño del bloque\n",
    "    channels   = len(data.shape))  # num de canales\n",
    "stream.start() # arrancamos stream\n",
    "\n",
    "numBloque = 0  # contador de bloques\n",
    "end = False    # flag de fin de audio\n",
    "while not(end): \n",
    "    print(f\"Procesando bloque: {numBloque}\")\n",
    "    bloque = data[numBloque*CHUNK : (numBloque+1)*CHUNK]\n",
    "    if bloque.size==0: break\n",
    "    stream.write(np.float32(bloque)) # escribimos al stream de sounddevice\n",
    "    numBloque += 1\n",
    "\n",
    "stream.stop() # paramos stream\n",
    "stream.close() # cerramos stream    "
   ]
  },
  {
   "cell_type": "markdown",
   "metadata": {},
   "source": [
    "# Versión 3: reproducción con callBack (no bloqueante) y enrutado de señal (objeto con método next)\n",
    "\n",
    "Tendremos un **hebra de ejecución** independiente, donde estará con soundDevice procesando señal:\n",
    "\n",
    "- Esta hebra procesa el audio que le llegue a través de (la variable) **input**\n",
    "\n",
    "- **input** es *cualquier* generador de señal, i.e., cualquier objeto con un **método next** que genere un CHUNK de audio con cada llamada al mismo: es un iterador que va devolviendo CHUNKs de señal en cada sucesiva llamada\n",
    "\n",
    "Para el siguiente ejemplo, utilizaremos un oscilador simple como generador de señal: clase Osc"
   ]
  },
  {
   "cell_type": "code",
   "execution_count": 1,
   "metadata": {},
   "outputs": [
    {
     "name": "stdout",
     "output_type": "stream",
     "text": [
      "Overwriting osc.py\n"
     ]
    }
   ],
   "source": [
    "%%writefile osc.py\n",
    "from consts import *\n",
    "\n",
    "class Osc:\n",
    "    def __init__(self,freq=440.0,amp=1.0,phase=0.0):\n",
    "        self.freq = freq\n",
    "        self.amp = amp\n",
    "        self.phase = phase\n",
    "        self.frame = 0 # frame inicial\n",
    "\n",
    "    def next(self):            \n",
    "        out = self.amp*np.sin(2*np.pi*(np.arange(self.frame,self.frame+CHUNK))*self.freq/SRATE+self.phase)        \n",
    "        self.frame += CHUNK # actualizamos el frame\n",
    "        return out"
   ]
  },
  {
   "cell_type": "markdown",
   "metadata": {},
   "source": [
    "Definimos un stream de sounDevice, pero ahora con callBack.\n",
    "\n",
    "- En el callback simplemente pedimos un CHUNK a la señal *input* y lo copiamos en *outdata*\n",
    "\n"
   ]
  },
  {
   "cell_type": "code",
   "execution_count": 13,
   "metadata": {},
   "outputs": [],
   "source": [
    "from consts import *\n",
    "from osc import *\n",
    "\n",
    "input = None\n",
    "def callback(outdata, frames, time, status):    \n",
    "    global input\n",
    "    #print('entro')\n",
    "    if input is not None: \n",
    "        bloque = input.next()    \n",
    "        outdata[:] = bloque.reshape(-1,1) # convertimos formato (CHUNK,) a (CHUNK,1) para que adecuarlo a sounddevice\n",
    "    else:\n",
    "        outdata[:] = np.zeros((CHUNK,1)) # si no hay datos, reproducimos silencio\n",
    "            \n",
    "# stream de salida con callBack\n",
    "stream = sd.OutputStream(samplerate=SRATE, channels=len(data.shape), callback=callback, blocksize=CHUNK)\n",
    "stream.start()\n"
   ]
  },
  {
   "cell_type": "code",
   "execution_count": 8,
   "metadata": {},
   "outputs": [],
   "source": [
    "# Conectamos el oscilador al input stream de salida\n",
    "input = Osc(110,1.0,0.0) # oscilador a 110 Hz\n",
    "# empieza a sonar!!\n",
    "\n",
    "# y no para: el callback va demandando señal al oscilador que la va produciendo en tiempo real\n"
   ]
  },
  {
   "cell_type": "code",
   "execution_count": 9,
   "metadata": {},
   "outputs": [],
   "source": [
    "# para pararlo, simplemente ponemos input a None (desconectamos el oscilador)\n",
    "input = None # paramos el oscilador"
   ]
  },
  {
   "cell_type": "code",
   "execution_count": null,
   "metadata": {},
   "outputs": [],
   "source": [
    "# Ahora, conectamos el oscilador\n",
    "input = Osc(110,1.0,0.0) # oscilador a 110 Hz\n",
    "# empieza a sonar!\n",
    "\n",
    " # esperamos 2 segundos\n",
    "sd.sleep(2000)\n",
    "\n",
    "# desconectamos el oscilador (se para)\n",
    "input = None # paramos el oscilador\n"
   ]
  },
  {
   "cell_type": "code",
   "execution_count": null,
   "metadata": {},
   "outputs": [],
   "source": [
    "# al final del todo podemos paramos stream\n",
    "stream.stop()\n",
    "stream.close()\n"
   ]
  },
  {
   "cell_type": "code",
   "execution_count": null,
   "metadata": {},
   "outputs": [],
   "source": [
    "print(input)\n",
    "\n",
    "input = None"
   ]
  },
  {
   "cell_type": "markdown",
   "metadata": {},
   "source": [
    "# TkInter para entrada/salida no bloquente... y GUIs!\n",
    "\n",
    "Cedemos el control de la hebra ppal a TkInter\n",
    "\n",
    "- Y en particular cedemos el control de ejecución: toda la interacción con el sistema será a través de ventanas"
   ]
  },
  {
   "cell_type": "code",
   "execution_count": 14,
   "metadata": {},
   "outputs": [
    {
     "name": "stdout",
     "output_type": "stream",
     "text": [
      "note activated\n",
      "note deactivated\n"
     ]
    }
   ],
   "source": [
    "from consts import *\n",
    "from tkinter import *\n",
    "from osc import *\n",
    "\n",
    "root=Tk()\n",
    "\n",
    "# Caja de texto\n",
    "text = Text(root,height=6,width=60)\n",
    "text.pack(side=BOTTOM)\n",
    "text.insert(INSERT,\"Press 'a' to activate note and 'space' to deactivate\\n\")\n",
    "\n",
    "# call back para la pulsación de teclas\n",
    "def key_down(event):\n",
    "    global input  # conexión con sounddevice\n",
    "    if event.char=='a': \n",
    "        print('note activated')\n",
    "        input = Osc(110)  # enrutamos la señal de la nota al \"input\" del stream\n",
    "    elif event.char==' ': \n",
    "        print('note deactivated')\n",
    "        input = None\n",
    "\n",
    "# enlace de la pulsación de teclas con la función key_down\n",
    "text.bind('<Key>', key_down)\n",
    "\n",
    "\n",
    "# arrancamos la ventana: la ejecución queda bloqueada hasta que se cierre la ventana\n",
    "root.mainloop()\n",
    "\n",
    "# limpieza..\n",
    "#stream.stop()\n",
    "#stream.close()"
   ]
  }
 ],
 "metadata": {
  "kernelspec": {
   "display_name": "Python 3",
   "language": "python",
   "name": "python3"
  },
  "language_info": {
   "codemirror_mode": {
    "name": "ipython",
    "version": 3
   },
   "file_extension": ".py",
   "mimetype": "text/x-python",
   "name": "python",
   "nbconvert_exporter": "python",
   "pygments_lexer": "ipython3",
   "version": "3.10.12"
  }
 },
 "nbformat": 4,
 "nbformat_minor": 2
}
