{
 "cells": [
  {
   "cell_type": "code",
   "execution_count": 1,
   "metadata": {},
   "outputs": [],
   "source": [
    "\n",
    "#PYTHON 3.11 PARA EL TKINTER\n",
    "\n",
    "import numpy as np\n",
    "import sounddevice as sd\n",
    "import matplotlib.pyplot as plt\n",
    "#import kbhit \n",
    "import time # para medir tiempos de ejecución"
   ]
  },
  {
   "cell_type": "code",
   "execution_count": 11,
   "metadata": {},
   "outputs": [],
   "source": [
    "from osc import *\n",
    "\n",
    "SRATE, CHUNK = 48000, 1024"
   ]
  },
  {
   "cell_type": "code",
   "execution_count": 30,
   "metadata": {},
   "outputs": [],
   "source": [
    "\n",
    "# CLASE MODULADOR\n",
    "class Modulator:\n",
    "    def __init__(self, signal, freq=1, v0=0, v1=1):\n",
    "            self.freq = freq\n",
    "            self.frame = 0\n",
    "            self.signal = signal\n",
    "            self.osc = Osc(self.freq, v1-v0,self.frame+CHUNK)\n",
    "            self.v0 = v0\n",
    "            self.v1 = v1\n",
    "\n",
    "            #genera una moduladora\n",
    "            self.mod = Osc(freq)\n",
    "\n",
    "    def next(self): \n",
    "\n",
    "        #se multiplican las señales\n",
    "        out =((self.v1-self.v0)*self.mod.next()+(self.v1+self.v0))/2\n",
    "        #\n",
    "        #normaliza y reubica, el offset es para moverlo primero del [-1,1] al positivo\n",
    "        #el /2 es para re escalar porque el rango ees de dos al principio y pasa a ser de 1\n",
    "\n",
    "        self.frame += CHUNK\n",
    "        return out * self.signal.next()\n"
   ]
  },
  {
   "cell_type": "code",
   "execution_count": 31,
   "metadata": {},
   "outputs": [
    {
     "ename": "AttributeError",
     "evalue": "'Modulator' object has no attribute 'v1'",
     "output_type": "error",
     "traceback": [
      "\u001b[1;31m---------------------------------------------------------------------------\u001b[0m",
      "\u001b[1;31mAttributeError\u001b[0m                            Traceback (most recent call last)",
      "Cell \u001b[1;32mIn[31], line 10\u001b[0m\n\u001b[0;32m      8\u001b[0m signal \u001b[38;5;241m=\u001b[39m np\u001b[38;5;241m.\u001b[39mempty(\u001b[38;5;241m0\u001b[39m) \u001b[38;5;66;03m# acumulador de la señal\u001b[39;00m\n\u001b[0;32m      9\u001b[0m \u001b[38;5;28;01mfor\u001b[39;00m i \u001b[38;5;129;01min\u001b[39;00m \u001b[38;5;28mrange\u001b[39m(chunks): \u001b[38;5;66;03m# generamos los chunks\u001b[39;00m\n\u001b[1;32m---> 10\u001b[0m     signal \u001b[38;5;241m=\u001b[39m np\u001b[38;5;241m.\u001b[39mappend(signal,\u001b[43mmod\u001b[49m\u001b[38;5;241;43m.\u001b[39;49m\u001b[43mnext\u001b[49m\u001b[43m(\u001b[49m\u001b[43m)\u001b[49m)\n\u001b[0;32m     12\u001b[0m sd\u001b[38;5;241m.\u001b[39mplay(signal, SRATE)\n\u001b[0;32m     13\u001b[0m sd\u001b[38;5;241m.\u001b[39mwait()\n",
      "Cell \u001b[1;32mIn[30], line 16\u001b[0m, in \u001b[0;36mModulator.next\u001b[1;34m(self)\u001b[0m\n\u001b[0;32m     13\u001b[0m \u001b[38;5;28;01mdef\u001b[39;00m\u001b[38;5;250m \u001b[39m\u001b[38;5;21mnext\u001b[39m(\u001b[38;5;28mself\u001b[39m): \n\u001b[0;32m     14\u001b[0m \n\u001b[0;32m     15\u001b[0m     \u001b[38;5;66;03m#se multiplican las señales\u001b[39;00m\n\u001b[1;32m---> 16\u001b[0m     out \u001b[38;5;241m=\u001b[39m((\u001b[38;5;28;43mself\u001b[39;49m\u001b[38;5;241;43m.\u001b[39;49m\u001b[43mv1\u001b[49m\u001b[38;5;241m-\u001b[39m\u001b[38;5;28mself\u001b[39m\u001b[38;5;241m.\u001b[39mv0)\u001b[38;5;241m*\u001b[39m\u001b[38;5;28mself\u001b[39m\u001b[38;5;241m.\u001b[39mmod\u001b[38;5;241m.\u001b[39mnext()\u001b[38;5;241m+\u001b[39m(\u001b[38;5;28mself\u001b[39m\u001b[38;5;241m.\u001b[39mv1\u001b[38;5;241m+\u001b[39m\u001b[38;5;28mself\u001b[39m\u001b[38;5;241m.\u001b[39mv0))\u001b[38;5;241m/\u001b[39m\u001b[38;5;241m2\u001b[39m\n\u001b[0;32m     17\u001b[0m     \u001b[38;5;66;03m#\u001b[39;00m\n\u001b[0;32m     18\u001b[0m     \u001b[38;5;66;03m#normaliza y reubica, el offset es para moverlo primero del [-1,1] al positivo\u001b[39;00m\n\u001b[0;32m     19\u001b[0m     \u001b[38;5;66;03m#el /2 es para re escalar porque el rango ees de dos al principio y pasa a ser de 1\u001b[39;00m\n\u001b[0;32m     21\u001b[0m     \u001b[38;5;28mself\u001b[39m\u001b[38;5;241m.\u001b[39mframe \u001b[38;5;241m+\u001b[39m\u001b[38;5;241m=\u001b[39m CHUNK\n",
      "\u001b[1;31mAttributeError\u001b[0m: 'Modulator' object has no attribute 'v1'"
     ]
    }
   ],
   "source": [
    "\n",
    "\n",
    "# señal que vamos a modular\n",
    "signal = Osc(freq=440)\n",
    "# con un modulador de 2 Hz y amplitud en [0.2,0.9]\n",
    "mod = Modulator(signal,freq=2,v0=.2,v1=.9)\n",
    "# generamos 1.5 segundos de señal modulada\n",
    "time = 1.5\n",
    "chunks = int(time*SRATE/CHUNK) # número de chunks a generar\n",
    "signal = np.empty(0) # acumulador de la señal\n",
    "for i in range(chunks): # generamos los chunks\n",
    "    signal = np.append(signal,mod.next())\n",
    "\n",
    "sd.play(signal, SRATE)\n",
    "sd.wait()\n",
    "plt.plot(signal)"
   ]
  }
 ],
 "metadata": {
  "kernelspec": {
   "display_name": "Python 3",
   "language": "python",
   "name": "python3"
  },
  "language_info": {
   "codemirror_mode": {
    "name": "ipython",
    "version": 3
   },
   "file_extension": ".py",
   "mimetype": "text/x-python",
   "name": "python",
   "nbconvert_exporter": "python",
   "pygments_lexer": "ipython3",
   "version": "3.11.9"
  }
 },
 "nbformat": 4,
 "nbformat_minor": 2
}
